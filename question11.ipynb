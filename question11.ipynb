{
 "cells": [
  {
   "cell_type": "markdown",
   "id": "93fc03dd-7855-4c57-81ed-955922b10803",
   "metadata": {},
   "source": [
    "# Ilse Labuschagne\n",
    "Notebook for assignment 7"
   ]
  },
  {
   "cell_type": "code",
   "execution_count": 1,
   "id": "de823c6f-b87c-4d4c-b1d5-986eef9c3440",
   "metadata": {},
   "outputs": [
    {
     "data": {
      "text/plain": [
       "5.0"
      ]
     },
     "execution_count": 1,
     "metadata": {},
     "output_type": "execute_result"
    }
   ],
   "source": [
    "def compute_mean(list_of_vals):\n",
    "    mean_val = sum(list_of_vals)/len(list_of_vals)\n",
    "    return mean_val\n",
    "\n",
    "compute_mean([2, 4, 6, 8])"
   ]
  },
  {
   "cell_type": "markdown",
   "id": "4aa1dfa9-e492-473a-9194-9a18f552655a",
   "metadata": {},
   "source": [
    "$$\n",
    "\\overline{x} = \\frac{x_1+x_2+\\dots+x_n}{n} = \\frac{1}{n} \\left (\\sum_{i=1}^{n} x_i \\right)\n",
    "$$"
   ]
  }
 ],
 "metadata": {
  "kernelspec": {
   "display_name": "Python [conda env:base] *",
   "language": "python",
   "name": "conda-base-py"
  },
  "language_info": {
   "codemirror_mode": {
    "name": "ipython",
    "version": 3
   },
   "file_extension": ".py",
   "mimetype": "text/x-python",
   "name": "python",
   "nbconvert_exporter": "python",
   "pygments_lexer": "ipython3",
   "version": "3.12.2"
  }
 },
 "nbformat": 4,
 "nbformat_minor": 5
}
