{
 "cells": [
  {
   "cell_type": "markdown",
   "id": "2d2a8550-0d9c-448f-851d-de2ba917220a",
   "metadata": {},
   "source": [
    "We are currently working in the following directory:"
   ]
  },
  {
   "cell_type": "code",
   "execution_count": 1,
   "id": "19d14aa9-08cc-4ca9-b80b-66fa08e6ea4b",
   "metadata": {},
   "outputs": [
    {
     "name": "stdout",
     "output_type": "stream",
     "text": [
      "/Users/ilselabuschagne/Documents/jupyterlab_practice\n"
     ]
    }
   ],
   "source": [
    "!pwd"
   ]
  },
  {
   "cell_type": "markdown",
   "id": "0413562e-82e3-486f-bc0b-cc6282043e05",
   "metadata": {},
   "source": [
    "To time how long it takes to run a Python cell, we could use the timeit command inside a cell as is shown below, followed by the proper use of the timeit command to time the following loop:\n",
    "\n",
    "```python\n",
    "%%timeit\n",
    "for i in range(1_000_000):\n",
    "    i**2\n",
    "```\n"
   ]
  },
  {
   "cell_type": "code",
   "execution_count": 2,
   "id": "fe41c035-0535-4c8e-b344-772f6cdea655",
   "metadata": {},
   "outputs": [
    {
     "name": "stdout",
     "output_type": "stream",
     "text": [
      "28.9 ms ± 110 μs per loop (mean ± std. dev. of 7 runs, 10 loops each)\n"
     ]
    }
   ],
   "source": [
    "%%timeit\n",
    "#I was a little confused by the verbiage of the instructions, so I opted to\n",
    "#include the actual cell that runs the %%timeit command. Although the assignment \n",
    "# instructions do not ask for it, the line \"Followed by the proper use of....\" \n",
    "#suggested that you want to see the output of the actual code.\n",
    "\n",
    "for i in range(1_000_000):\n",
    "    i**2"
   ]
  },
  {
   "cell_type": "code",
   "execution_count": 3,
   "id": "acbf946c-d8b4-4b7e-ad0a-51d1bd8fa703",
   "metadata": {},
   "outputs": [
    {
     "name": "stdout",
     "output_type": "stream",
     "text": [
      "[NbConvertApp] Converting notebook question12.ipynb to html\n",
      "[NbConvertApp] Writing 271872 bytes to question12.html\n"
     ]
    }
   ],
   "source": [
    "!jupyter nbconvert question12.ipynb --to html --output=question12.html --no-input"
   ]
  }
 ],
 "metadata": {
  "kernelspec": {
   "display_name": "Python [conda env:assignment7-env]",
   "language": "python",
   "name": "conda-env-assignment7-env-py"
  },
  "language_info": {
   "codemirror_mode": {
    "name": "ipython",
    "version": 3
   },
   "file_extension": ".py",
   "mimetype": "text/x-python",
   "name": "python",
   "nbconvert_exporter": "python",
   "pygments_lexer": "ipython3",
   "version": "3.13.2"
  }
 },
 "nbformat": 4,
 "nbformat_minor": 5
}
